{
 "cells": [
  {
   "cell_type": "markdown",
   "metadata": {},
   "source": [
    "Calculates <b>Environments Loads Only, based on site environment conditions</b>. Should be used for <b>monohull, ship-shaped objects</b> only.\n",
    "\n",
    "All deck equipment is in \"parked\" postion.\n",
    "\n",
    "Should be used width DNVGL-ST-0111 standard - refer to the standard for \"in-depth\" explanations."
   ]
  },
  {
   "cell_type": "code",
   "execution_count": null,
   "metadata": {},
   "outputs": [],
   "source": [
    "import DNVGLST0111F as dnv"
   ]
  },
  {
   "cell_type": "markdown",
   "metadata": {},
   "source": [
    "<b>Input block - FLUIDS:</b>"
   ]
  },
  {
   "cell_type": "code",
   "execution_count": null,
   "metadata": {},
   "outputs": [],
   "source": [
    "AirRO = 1.226 #air density in kg/m3\n",
    "WaterRO = 1026 #water density kg/m3"
   ]
  },
  {
   "cell_type": "markdown",
   "metadata": {},
   "source": [
    "<b>Input block - ENVIRONMENT CONDITIONS:</b>"
   ]
  },
  {
   "cell_type": "code",
   "execution_count": null,
   "metadata": {},
   "outputs": [],
   "source": [
    "#WIND\n",
    "Vwind = 2 #wind speed m/s \n",
    "directionWind = 240 #wind coming direction in degrees\n",
    "\n",
    "#Current\n",
    "ALcurr = 1200 #longitudinal projected submerged current area\n",
    "directionCurr = 240 #current speed comming from direction\n",
    "Vcurr = 2 #current speed\n",
    "\n",
    "#Waves\n",
    "hs = 2  #significan wave height\n",
    "waveDirection = 240\n",
    "Tp = 10  #peak wave period"
   ]
  },
  {
   "cell_type": "markdown",
   "metadata": {},
   "source": [
    "<b>Input block - Vessel Particulars:</b>"
   ]
  },
  {
   "cell_type": "code",
   "execution_count": null,
   "metadata": {},
   "outputs": [],
   "source": [
    "Lpp = 80 #vessel's length between perpendiculars, m\n",
    "Bmax = 18 #vessel's max breadth at water line, m\n",
    "draft = 4 #vessel's summer load line draft, m"
   ]
  },
  {
   "cell_type": "markdown",
   "metadata": {},
   "source": [
    "<b>Input block - Vessel <i>Wind</i> Characteristics:</b>"
   ]
  },
  {
   "cell_type": "code",
   "execution_count": null,
   "metadata": {},
   "outputs": [],
   "source": [
    "AFwind = 1000 #frontal projected wind area\n",
    "ALwind = 2000 #longitudinal projected wind area\n",
    "XLair = 3 #longitudinal position of the area center of AL,wind"
   ]
  },
  {
   "cell_type": "markdown",
   "metadata": {},
   "source": [
    "<b>Input - Vessel's <i>Current</i> Characteristics:</b>"
   ]
  },
  {
   "cell_type": "code",
   "execution_count": null,
   "metadata": {},
   "outputs": [],
   "source": [
    "ALcurr = 1200 #longitudinal projected submerged current area\n",
    "Lcurr = 1200 #longitudinal projected submerged current area\n",
    "XLcurr = 5 #long. position of the area center of ALcurr"
   ]
  },
  {
   "cell_type": "markdown",
   "metadata": {},
   "source": [
    "<b>Input - Vessel's <i>Wave</i> Characteristics:</b> Use DNVGL standard for in depth explanations"
   ]
  },
  {
   "cell_type": "code",
   "execution_count": null,
   "metadata": {},
   "outputs": [],
   "source": [
    "Cwlaft = 1  #water plane area coefficient of the water plane area behind midship in range (0.85, 1.15)\n",
    "bowangle = 45 #Figure 3-2\n",
    "\n",
    "Xlos = 36 #Figure 3-1\n",
    "Awlaft = 1000 #water plane area for x < 0, Fig. 3-1\n",
    "Los = 75 #long. distance between foremost and aftmost points under water"
   ]
  },
  {
   "cell_type": "markdown",
   "metadata": {},
   "source": [
    "<b>Execution</b> - File Operations and calculation block"
   ]
  },
  {
   "cell_type": "code",
   "execution_count": null,
   "metadata": {},
   "outputs": [],
   "source": [
    "Tz=Tp/1.04049  #Pierson Moskowitz wave spectrum with cos2 spreading\n",
    "\n",
    "windLoading = dnv.windLoad (Lpp, Bmax, draft, Vwind, directionWind, AFwind, ALwind, XLair, AirRO)\n",
    "currentLoading = dnv.currLoad (Lpp, Bmax, draft, ALcurr, directionCurr, XLcurr, WaterRO, Vcurr)\n",
    "waveLoading = dnv.waveLoad (Lpp, Bmax, draft, Cwlaft, bowangle, hs, Xlos, Awlaft, waveDirection, Los, Tz, WaterRO)\n",
    "\n",
    "Fx = windLoading[0]+currentLoading[0]+waveLoading[0]\n",
    "Fy = windLoading[1]+currentLoading[1]+waveLoading[1]\n",
    "Mz = windLoading[2]+currentLoading[2]+waveLoading[2]\n",
    "\n",
    "print \"FXwind, FYwind, MZwind :\", windLoading\n",
    "print \"FXcurrent, FYCurrent, MZcurrent :\", currentLoading\n",
    "print \"FXwave, FYwave, MZwave :\", waveLoading\n",
    "print \"Fx[N] = \", Fx\n",
    "print \"Fy[N] = \", Fy\n",
    "print \"Mz[Nm] = \", Mz"
   ]
  }
 ],
 "metadata": {
  "kernelspec": {
   "display_name": "Python 2",
   "language": "python",
   "name": "python2"
  },
  "language_info": {
   "codemirror_mode": {
    "name": "ipython",
    "version": 2
   },
   "file_extension": ".py",
   "mimetype": "text/x-python",
   "name": "python",
   "nbconvert_exporter": "python",
   "pygments_lexer": "ipython2",
   "version": "2.7.15"
  }
 },
 "nbformat": 4,
 "nbformat_minor": 2
}
