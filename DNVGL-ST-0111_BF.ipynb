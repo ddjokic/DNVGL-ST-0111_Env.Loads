{
 "cells": [
  {
   "cell_type": "markdown",
   "metadata": {},
   "source": [
    "Calculates <b>Environments Loads Only</b>, based on Baufort table for range of environment directions. Should be used for <b>monohull, ship-shaped</b> objects only.\n",
    "\n",
    "All deck equipment is in \"parked\" postion.\n",
    "\n",
    "Should be used width DNVGL-ST-0111 standard - refer to the standard for \"in-depth\" explanations."
   ]
  },
  {
   "cell_type": "code",
   "execution_count": null,
   "metadata": {},
   "outputs": [],
   "source": [
    "import numpy as np\n",
    "import math\n",
    "import matplotlib.pyplot as plt\n",
    "import DNVGLST0111F as dnv \n",
    "import os"
   ]
  },
  {
   "cell_type": "markdown",
   "metadata": {},
   "source": [
    "<b>Input block - FLUIDS:</b>"
   ]
  },
  {
   "cell_type": "code",
   "execution_count": null,
   "metadata": {},
   "outputs": [],
   "source": [
    "AirRO = 1.226 #air density in kg/m3\n",
    "WaterRO = 1026 #water density kg/m3"
   ]
  },
  {
   "cell_type": "markdown",
   "metadata": {},
   "source": [
    "<b>Vessel Main Particulars:</b>"
   ]
  },
  {
   "cell_type": "code",
   "execution_count": null,
   "metadata": {},
   "outputs": [],
   "source": [
    "Lpp = 80 #vessel's length between perpendiculars, m\n",
    "Bmax = 18 #vessel's max breadth at water line, m\n",
    "draft = 4 #vessel's summer load line draft, m"
   ]
  },
  {
   "cell_type": "markdown",
   "metadata": {},
   "source": [
    "<b>Input - Vessel's <i>Wind</i> Characteristics:</b>"
   ]
  },
  {
   "cell_type": "code",
   "execution_count": null,
   "metadata": {},
   "outputs": [],
   "source": [
    "AFwind = 1000 #frontal projected wind area\n",
    "ALwind = 2000 #longitudinal projected wind area\n",
    "XLair = 3 #longitudinal position of the area center of AL,wind"
   ]
  },
  {
   "cell_type": "markdown",
   "metadata": {},
   "source": [
    "<b>Input - Vessel's <i>Current</i> Characteristics:</b>"
   ]
  },
  {
   "cell_type": "code",
   "execution_count": null,
   "metadata": {},
   "outputs": [],
   "source": [
    "ALcurr = 1200 #longitudinal projected submerged current area\n",
    "Lcurr = 1200 #longitudinal projected submerged current area\n",
    "XLcurr = 5 #long. position of the area center of ALcurr"
   ]
  },
  {
   "cell_type": "markdown",
   "metadata": {},
   "source": [
    "<b>Input - Vessel's <i>Wave</i> Characteristics:</b> Use DNVGL standard for in depth explanations"
   ]
  },
  {
   "cell_type": "code",
   "execution_count": null,
   "metadata": {},
   "outputs": [],
   "source": [
    "Cwlaft = 1  #water plane area coefficient of the water plane area behind midship in range (0.85, 1.15)\n",
    "bowangle = 45 #Figure 3-2\n",
    "\n",
    "Xlos = 36 #Figure 3-1\n",
    "Awlaft = 1000 #water plane area for x < 0, Fig. 3-1\n",
    "Los = 75 #long. distance between foremost and aftmost points under water\n",
    "Tz = 10 #zero-up-crossing period of wave spectrum"
   ]
  },
  {
   "cell_type": "markdown",
   "metadata": {},
   "source": [
    "<b>Execution</b> - File Operations and calculation block"
   ]
  },
  {
   "cell_type": "code",
   "execution_count": null,
   "metadata": {},
   "outputs": [],
   "source": [
    "dirname = \"results\"\n",
    "filename = \"results.txt\"  #results filename\n",
    "#curr_dir = \n",
    "#os.mkdir (dirname)\n",
    "cwd = os.getcwd()\n",
    "\n",
    "\n",
    "#import beaufort scale & playing with files\n",
    "K=np.loadtxt(\"Beaufort_scale.csv\", dtype=float, comments=\"#\", delimiter=',', converters=None, skiprows=1, usecols=None, unpack=False, ndmin=0)\n",
    "os.mkdir (dirname)\n",
    "os.chdir (dirname)\n",
    "fn = open(filename, 'a')\n",
    "#writting headers\n",
    "file.write(fn, \"\\nangle, windX, windY, windMz, currentX, currentY, currentMz, waveX, waveY, waveMz, totalX, totalY, totalMz\")\n",
    "file.write(fn,'\\nUNITS: X, Y = N, Mz = Nm, angle = degrees')            \n",
    "             \n",
    "BFn = []  #Beaufort number\n",
    "WS = []   #wind speed\n",
    "HS = []   #significant wave height\n",
    "PWP =[]   #Pierson Moskowitz wave spectrum with cos2 spreading\n",
    "TP = []   #peak wave period\n",
    "CS = []   #current speed\n",
    "weather_ang = []\n",
    "wind = []\n",
    "current = []\n",
    "wave = []\n",
    "\n",
    "for i in range(0,12):\n",
    "    BFn.append (K[i,0])\n",
    "    WS.append (K[i,1])\n",
    "    HS.append (K[i,2])\n",
    "    TP.append (K[i,3])\n",
    "    CS.append (K[i,4])\n",
    "    PWP.append (K[i,3]/1.4049)  \n",
    "    \n",
    "\n",
    "for i in range (0,12):\n",
    "    file.write(fn, \"\\nBaufort Number = \" + str(BFn[i]))\n",
    "    ang = []\n",
    "    totalXr=[]\n",
    "    totalYr=[]\n",
    "    totalMzr=[]\n",
    "    for angle in np.arange(0,365,5):\n",
    "        \n",
    "        angPi = math.radians(angle)\n",
    "        ang.append(angPi)\n",
    "        windLoading = dnv.windLoad (Lpp, Bmax, draft, WS[i], angle, AFwind, ALwind, XLair, AirRO)\n",
    "        currentLoading = dnv.currLoad (Lpp, Bmax, draft, ALcurr, angle, XLcurr, WaterRO, CS[i])\n",
    "        waveLoading = dnv.waveLoad (Lpp, Bmax, draft, Cwlaft, bowangle, HS[i], Xlos, Awlaft, angle, Los, PWP[i], WaterRO)\n",
    "        #print angle, windLoading [0], windLoading[1], windLoading[2], currentLoading[0], currentLoading[1], currentLoading[2], waveLoading[0], waveLoading[1], waveLoading[2]\n",
    "        #print \"%0.0f %0.2f %0.2f %0.2f\\n\" % (angle, windLoading[0], windLoading[1], windLoading[2])#ovo\n",
    "        weather_ang.append(angle)\n",
    "        wind.append(windLoading)\n",
    "        current.append(currentLoading)\n",
    "        wave.append(waveLoading)\n",
    "        totalX=round (windLoading[0]+currentLoading[0]+waveLoading[0], 2)\n",
    "        totalY=round(windLoading[1]+currentLoading[1]+waveLoading[1],2)\n",
    "        totalMz=round(windLoading[2]+currentLoading[2]+waveLoading[2],2)\n",
    "        totalXr.append(totalX)\n",
    "        totalYr.append(totalY)\n",
    "        totalMzr.append(totalMz)\n",
    "        fn.write('\\n'+str(angle)+','+str(round(windLoading[0],2))+','+str(round(windLoading[1],2))+','+str(round(windLoading[2],2))+','+str(round(currentLoading[0],2))+','+str(round(currentLoading[1],2))+','+str(round(currentLoading[2],2))+ ','+str(round(waveLoading[0],2))+ ','+str(round(waveLoading[1],2))+ ','+str(round(waveLoading[2],2))+',' +str(totalX)+',' +str(totalY)+','+str(totalMz))\n",
    "        \n",
    "    file.write(fn,\"\\nmax(totalX) = \" +str(max(totalXr))+'; for direction: '+str(np.argmax(totalXr)*5))\n",
    "    file.write(fn,\"\\nmin(totalX) = \" +str(min(totalXr)) +'; for direction: '+str(np.argmin(totalXr)*5))\n",
    "    file.write(fn,\"\\nmax(totalY) = \" +str(max(totalYr)) +'; for direction: '+str(np.argmax(totalYr)*5))\n",
    "    file.write(fn,\"\\nmin(totalY) = \" +str(min(totalYr)) +'; for direction: '+str(np.argmin(totalYr)*5))\n",
    "    file.write(fn,\"\\nmax(totalMz) = \" +str(max(totalMzr))+'; for direction: '+str(np.argmax(totalMzr)*5))\n",
    "    file.write(fn, \"\\nmin(totalMz) = \" +str(min(totalMzr))+'; for direction: '+str(np.argmin(totalMzr)*5))\n",
    "    \n",
    "    #plotting into the file - filename: BFn+calculated total\n",
    "    \n",
    "    titlex = \"BFN \"+str(i) +\"-\"+\" \" + \"totalX\"\n",
    "    titley = \"BFN \"+str(i) +\"-\"+\" \" + \"totalY\"\n",
    "    titlem = \"BFN \"+str(i) +\"-\"+\" \" + \"totalMz\"\n",
    "    \n",
    "    axx = plt.subplot(111, projection='polar')\n",
    "    axx.plot(ang, totalXr)\n",
    "    axx.grid(True)\n",
    "    axx.set_title(titlex, va='bottom')\n",
    "    namex = titlex+\".png\"\n",
    "    plt.savefig(namex)\n",
    "    plt.close()\n",
    "    \n",
    "    axy = plt.subplot(111, projection = 'polar')\n",
    "    axy.plot(ang, totalYr)\n",
    "    axy.grid(True)\n",
    "    axy.set_title(titley, va='bottom')\n",
    "    namey = titley+\".png\"\n",
    "    plt.savefig(namey)\n",
    "    plt.close()\n",
    "    \n",
    "    axM = plt.subplot(111, projection='polar')\n",
    "    axM.plot(ang, totalMzr)\n",
    "    axM.grid(True)\n",
    "    axM.set_title(titlem, va='bottom')\n",
    "    namem = titlem+\".png\"\n",
    "    plt.savefig(namem)\n",
    "    plt.close()\n",
    "    print \"Running BFn: \", i\n",
    "    \n",
    "os.chdir(cwd)        \n",
    "fn.close() \n",
    "print \"END\"      "
   ]
  }
 ],
 "metadata": {
  "kernelspec": {
   "display_name": "Python 2",
   "language": "python",
   "name": "python2"
  },
  "language_info": {
   "codemirror_mode": {
    "name": "ipython",
    "version": 2
   },
   "file_extension": ".py",
   "mimetype": "text/x-python",
   "name": "python",
   "nbconvert_exporter": "python",
   "pygments_lexer": "ipython2",
   "version": "2.7.15"
  }
 },
 "nbformat": 4,
 "nbformat_minor": 2
}
